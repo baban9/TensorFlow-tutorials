{
 "cells": [
  {
   "cell_type": "code",
   "execution_count": 1,
   "metadata": {},
   "outputs": [],
   "source": [
    "# importing libraries \n",
    "\n",
    "import numpy as np\n",
    "import math\n",
    "\n",
    "import scipy.special "
   ]
  },
  {
   "cell_type": "code",
   "execution_count": 2,
   "metadata": {},
   "outputs": [],
   "source": [
    "class NN:\n",
    "    \n",
    "    def __init__(self,input_nodes,hidden_nodes,output_classes,learning_rate):\n",
    "        self.input_nodes = input_nodes\n",
    "        self.hidden_nodes = hidden_nodes\n",
    "        self.output_classes = output_classes\n",
    "        self.learning_rate = learning_rate\n",
    "        \n",
    "        # initializing weights randomly between input and hidden layers \n",
    "        self.w_ih = np.random.normal(loc = 0.0, scale = math.sqrt(1/self.hidden_nodes), size = (self.hidden_nodes,self.input_nodes))\n",
    "        \n",
    "        \n",
    "        # activation function\n",
    "        self.activation_function = lambda x: scipy.special.expit(x)        \n",
    "        \n",
    "        # initializing weights between hidden and output layers\n",
    "        self.w_ho = np.random.normal(loc = 0.0, scale = math.sqrt(1/self.output_classes),size = (self.output_classes,self.hidden_nodes))\n",
    "        \n",
    "        pass\n",
    "        \n",
    "    def input_array(self,input_array): # for test data \n",
    "        # takes in 1D array. or one row of the data to predict output array([a,b,c,d,e,f,g])\n",
    "        input_data = np.array(input_array,ndmin=2).T\n",
    "        \n",
    "        hidden_inputs = np.dot(self.w_ih,input_data) # dot product h = W.x\n",
    "        \n",
    "        # passing through activation function \n",
    "        hidden_outputs = self.activation_function(hidden_inputs)\n",
    "        \n",
    "        # layer 2 \n",
    "        \n",
    "        class_input = np.dot(self.w_ho,hidden_outputs)\n",
    "        class_outputs = self.activation_function(class_input)\n",
    "        \n",
    "        return class_outputs\n",
    "    \n",
    "        pass\n",
    "    \n",
    "    def train_data(self, input_array,target_array):\n",
    "        input_data = np.array(input_array,ndmin=2).T\n",
    "        target = np.array(target_array,ndmin=2).T\n",
    "        \n",
    "        # layer 1 \n",
    "        hidden_inputs = np.dot(self.w_ih,input_data)\n",
    "        hidden_outputs = self.activation_function(hidden_inputs)\n",
    "        \n",
    "        # layer 2 / output layer in this case \n",
    "        class_input = np.dot(self.w_ho,hidden_outputs)\n",
    "        class_output = self.activation_function(class_input)\n",
    "        \n",
    "        # error calculation\n",
    "        output_error = target - class_output\n",
    "        \n",
    "        hidden_error = np.dot(self.w_ho.T,output_error)\n",
    "        \n",
    "        # weight updating online learning \n",
    "        self.w_ho += self.learning_rate * np.dot(output_error*class_output*(1-class_output),np.transpose(hidden_outputs))\n",
    "        self.w_ih += self.learning_rate * np.dot(hidden_error*hidden_outputs*(1-hidden_outputs),np.transpose(input_data))\n",
    "        \n",
    "        pass\n",
    "        \n",
    "        "
   ]
  },
  {
   "cell_type": "code",
   "execution_count": 3,
   "metadata": {},
   "outputs": [],
   "source": [
    "# number of input, hidden and output nodes\n",
    "input_nodes = 784\n",
    "hidden_nodes = 200\n",
    "output_classes = 10\n",
    "# learning rate is 0.3\n",
    "learning_rate = 0.1\n",
    "# create instance of neural network\n",
    "n = NN(input_nodes,hidden_nodes,output_classes,learning_rate)"
   ]
  },
  {
   "cell_type": "code",
   "execution_count": 4,
   "metadata": {},
   "outputs": [],
   "source": [
    "training_data_file = open(\"mnist_train_100.csv\",\"r\")\n",
    "train_data_list = training_data_file.readlines()\n",
    "training_data_file.close()"
   ]
  },
  {
   "cell_type": "code",
   "execution_count": 5,
   "metadata": {},
   "outputs": [
    {
     "data": {
      "text/plain": [
       "100"
      ]
     },
     "execution_count": 5,
     "metadata": {},
     "output_type": "execute_result"
    }
   ],
   "source": [
    "len(train_data_list)"
   ]
  },
  {
   "cell_type": "code",
   "execution_count": null,
   "metadata": {},
   "outputs": [],
   "source": []
  },
  {
   "cell_type": "code",
   "execution_count": 6,
   "metadata": {},
   "outputs": [],
   "source": [
    "epochs = 500\n",
    "\n",
    "for e in range(epochs):\n",
    "    for line in train_data_list:\n",
    "        value = line.split(\",\")\n",
    "\n",
    "        # scale and shift \n",
    "        inputs = (np.asfarray(value[1:])/255 * 0.99) + 0.01\n",
    "\n",
    "        # target labeling \n",
    "        targets = np.zeros(output_classes)+0.01\n",
    "\n",
    "        targets[int(value[0])]  += 0.99\n",
    "\n",
    "        n.train_data(inputs,targets)\n",
    "\n",
    "        pass\n",
    "    pass"
   ]
  },
  {
   "cell_type": "code",
   "execution_count": 7,
   "metadata": {},
   "outputs": [],
   "source": [
    "# test data \n",
    "test_data_file = open(\"mnist_test_10.csv\", 'r')\n",
    "test_data_list = test_data_file.readlines()\n",
    "test_data_file.close()"
   ]
  },
  {
   "cell_type": "code",
   "execution_count": 8,
   "metadata": {},
   "outputs": [],
   "source": [
    "# for accuracy \n",
    "\n",
    "pred = []\n",
    "\n",
    "for data in test_data_list:\n",
    "    val = data.split(\",\")\n",
    "    \n",
    "    right_label = int(val[0])\n",
    "    \n",
    "    test_input = (np.asfarray(val[1:])/255 *0.99) +0.01\n",
    "    \n",
    "    output = n.input_array(test_input)\n",
    "    \n",
    "    label = np.argmax(output)\n",
    "    \n",
    "    if (label==right_label):\n",
    "        pred.append(1)\n",
    "    else:\n",
    "        pred.append(0)\n",
    "        pass\n",
    "    pass\n",
    "\n"
   ]
  },
  {
   "cell_type": "code",
   "execution_count": 9,
   "metadata": {},
   "outputs": [
    {
     "name": "stdout",
     "output_type": "stream",
     "text": [
      "performance =  0.7\n"
     ]
    }
   ],
   "source": [
    "# calculate the performance score, the fraction of correct answers\n",
    "scorecard_array = np.asarray(pred)\n",
    "print (\"performance = \", scorecard_array.sum() / scorecard_array.size)"
   ]
  },
  {
   "cell_type": "code",
   "execution_count": null,
   "metadata": {},
   "outputs": [],
   "source": []
  }
 ],
 "metadata": {
  "kernelspec": {
   "display_name": "Python 3",
   "language": "python",
   "name": "python3"
  },
  "language_info": {
   "codemirror_mode": {
    "name": "ipython",
    "version": 3
   },
   "file_extension": ".py",
   "mimetype": "text/x-python",
   "name": "python",
   "nbconvert_exporter": "python",
   "pygments_lexer": "ipython3",
   "version": "3.7.6"
  }
 },
 "nbformat": 4,
 "nbformat_minor": 4
}
