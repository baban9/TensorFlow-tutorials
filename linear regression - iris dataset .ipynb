{
 "cells": [
  {
   "cell_type": "code",
   "execution_count": 7,
   "metadata": {},
   "outputs": [],
   "source": [
    "import matplotlib.pyplot as plt\n",
    "import tensorflow as tf\n",
    "from sklearn import datasets\n",
    "import numpy as np\n",
    "from sklearn.model_selection import train_test_split"
   ]
  },
  {
   "cell_type": "code",
   "execution_count": 2,
   "metadata": {},
   "outputs": [],
   "source": [
    "# load dataset \n",
    "iris = datasets.load_iris()\n",
    "\n",
    "# x = sepal.length, y = petal_length"
   ]
  },
  {
   "cell_type": "code",
   "execution_count": 5,
   "metadata": {},
   "outputs": [],
   "source": [
    "predictor_vals = np.array([predictors[0] for predictors in iris.data])\n",
    "target_vals = np.array([predictors[2] for predictors in iris.data])"
   ]
  },
  {
   "cell_type": "code",
   "execution_count": 8,
   "metadata": {},
   "outputs": [],
   "source": [
    "# data spliting \n",
    "X_train, X_test, y_train,y_test = train_test_split(predictor_vals,target_vals,test_size =0.2)"
   ]
  },
  {
   "cell_type": "code",
   "execution_count": 12,
   "metadata": {},
   "outputs": [],
   "source": [
    "# place holder initialization \n",
    "predictor = tf.placeholder(shape=[None,1], dtype =tf.float32)\n",
    "target = tf.placeholder(shape=[None,1],dtype =tf.float32)"
   ]
  },
  {
   "cell_type": "code",
   "execution_count": 15,
   "metadata": {},
   "outputs": [],
   "source": [
    "# create weight and bias matrics \n",
    "A = tf.Variable(tf.zeros([1,1]))\n",
    "B = tf.Variable(tf.ones([1,1]))"
   ]
  },
  {
   "cell_type": "code",
   "execution_count": 17,
   "metadata": {},
   "outputs": [],
   "source": [
    "# model operation \n",
    "model_output = tf.add(tf.matmul(predictor,A),B)"
   ]
  },
  {
   "cell_type": "code",
   "execution_count": 24,
   "metadata": {},
   "outputs": [],
   "source": [
    "# decalre optimizer and loss \n",
    "# working with L1 loss : abs(pred-actual)\n",
    "\n",
    "loss = tf.reduce_mean(tf.abs(target-model_output))\n",
    "\n",
    "# optimizer \n",
    "my_opt = tf.train.GradientDescentOptimizer(0.01)\n",
    "\n",
    "train_stp = my_opt.minimize(loss)"
   ]
  },
  {
   "cell_type": "code",
   "execution_count": 25,
   "metadata": {},
   "outputs": [],
   "source": [
    "# initialize variables and sessions \n",
    "\n",
    "sess = tf.Session()\n",
    "init = tf.global_variables_initializer()\n",
    "\n",
    "sess.run(init)"
   ]
  },
  {
   "cell_type": "code",
   "execution_count": 26,
   "metadata": {},
   "outputs": [
    {
     "name": "stdout",
     "output_type": "stream",
     "text": [
      "step Number50 A = [[0.5388749]] b  [[1.0460004]]\n",
      "\n",
      " L1 loss 1.2637888\n",
      "step Number100 A = [[0.57269984]] b  [[1.004]]\n",
      "\n",
      " L1 loss 1.2396362\n",
      "step Number150 A = [[0.5750998]] b  [[0.9555]]\n",
      "\n",
      " L1 loss 1.1221101\n",
      "step Number200 A = [[0.56350005]] b  [[0.9035004]]\n",
      "\n",
      " L1 loss 1.4753287\n"
     ]
    }
   ],
   "source": [
    "# model fitting \n",
    "lossArray = []\n",
    "batchsize = 40 \n",
    "for i in range(200):\n",
    "    rand_rows = np.random.randint(0,len(X_train)-1,size=batchsize)\n",
    "    batchX = np.transpose([X_train[rand_rows]])\n",
    "    batchy = np.transpose([y_train[rand_rows]])\n",
    "    \n",
    "    sess.run(train_stp, feed_dict={predictor:batchX,target:batchy})\n",
    "    \n",
    "    batchloss = sess.run(loss, feed_dict ={predictor:batchX,target:batchy})\n",
    "    \n",
    "    lossArray.append(batchloss)\n",
    "    \n",
    "    if (i+1)%50 ==0:\n",
    "        print('step Number' + str(i+1) + ' A = ' + str(sess.run(A)) + ' b  ' + str(sess.run(B)))\n",
    "        print('\\n L1 loss ' + str(batchloss))\n",
    "        \n",
    "\n",
    "[slope]= sess.run(A)\n",
    "[intercept] = sess.run(B)    "
   ]
  },
  {
   "cell_type": "code",
   "execution_count": 27,
   "metadata": {},
   "outputs": [
    {
     "name": "stdout",
     "output_type": "stream",
     "text": [
      "step Number50 A = [[0.5965333]] b  [[0.87283367]]\n",
      "\n",
      " L1 loss 1.1561805\n",
      "step Number100 A = [[0.59820026]] b  [[0.83683395]]\n",
      "\n",
      " L1 loss 1.1945577\n"
     ]
    }
   ],
   "source": [
    "# working on test data \n",
    "# model fitting \n",
    "lossArray = []\n",
    "batchsize = 30 \n",
    "for i in range(100):\n",
    "    rand_rows = np.random.randint(0,len(X_test)-1,size=batchsize)\n",
    "    batchX = np.transpose([X_test[rand_rows]])\n",
    "    batchy = np.transpose([y_test[rand_rows]])\n",
    "    \n",
    "    sess.run(train_stp, feed_dict={predictor:batchX,target:batchy})\n",
    "    \n",
    "    batchloss = sess.run(loss, feed_dict ={predictor:batchX,target:batchy})\n",
    "    \n",
    "    lossArray.append(batchloss)\n",
    "    \n",
    "    if (i+1)%50 ==0:\n",
    "        print('step Number' + str(i+1) + ' A = ' + str(sess.run(A)) + ' b  ' + str(sess.run(B)))\n",
    "        print('\\n L1 loss ' + str(batchloss))\n",
    "        \n",
    "\n",
    "[slope]= sess.run(A)\n",
    "[intercept] = sess.run(B)    "
   ]
  },
  {
   "cell_type": "code",
   "execution_count": 28,
   "metadata": {},
   "outputs": [
    {
     "data": {
      "text/plain": [
       "Text(0.5, 0, 'Sepal length')"
      ]
     },
     "execution_count": 28,
     "metadata": {},
     "output_type": "execute_result"
    },
    {
     "data": {
      "image/png": "[encoded data removed]",
      "text/plain": [
       "<Figure size 432x288 with 1 Axes>"
      ]
     },
     "metadata": {
      "needs_background": "light"
     },
     "output_type": "display_data"
    }
   ],
   "source": [
    "# original data and loss \n",
    "plt.plot(X_test,y_test,'o',label='Actual Data')\n",
    "\n",
    "tst_fit = []\n",
    "for i in X_test:\n",
    "    tst_fit.append(slope*i+intercept)\n",
    "    \n",
    "plt.plot(X_test,tst_fit,'r-',label='predicted Line')\n",
    "plt.legend()\n",
    "plt.ylabel ('petal Length')\n",
    "plt.xlabel('Sepal length')"
   ]
  },
  {
   "cell_type": "code",
   "execution_count": 30,
   "metadata": {},
   "outputs": [
    {
     "data": {
      "text/plain": [
       "Text(0, 0.5, 'L1 loss')"
      ]
     },
     "execution_count": 30,
     "metadata": {},
     "output_type": "execute_result"
    },
    {
     "data": {
      "image/png": "[encoded data removed]",
      "text/plain": [
       "<Figure size 432x288 with 1 Axes>"
      ]
     },
     "metadata": {
      "needs_background": "light"
     },
     "output_type": "display_data"
    }
   ],
   "source": [
    "plt.plot(lossArray,'r-')\n",
    "plt.xlabel('loop')\n",
    "plt.ylabel('L1 loss')"
   ]
  },
  {
   "cell_type": "code",
   "execution_count": null,
   "metadata": {},
   "outputs": [],
   "source": []
  }
 ],
 "metadata": {
  "kernelspec": {
   "display_name": "Python 3",
   "language": "python",
   "name": "python3"
  },
  "language_info": {
   "codemirror_mode": {
    "name": "ipython",
    "version": 3
   },
   "file_extension": ".py",
   "mimetype": "text/x-python",
   "name": "python",
   "nbconvert_exporter": "python",
   "pygments_lexer": "ipython3",
   "version": "3.7.6"
  }
 },
 "nbformat": 4,
 "nbformat_minor": 4
}
