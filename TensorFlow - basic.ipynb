{
 "cells": [
  {
   "cell_type": "code",
   "execution_count": 1,
   "metadata": {},
   "outputs": [
    {
     "name": "stderr",
     "output_type": "stream",
     "text": [
      "C:\\Users\\baban\\Anaconda3\\lib\\site-packages\\tensorflow\\python\\framework\\dtypes.py:516: FutureWarning: Passing (type, 1) or '1type' as a synonym of type is deprecated; in a future version of numpy, it will be understood as (type, (1,)) / '(1,)type'.\n",
      "  _np_qint8 = np.dtype([(\"qint8\", np.int8, 1)])\n",
      "C:\\Users\\baban\\Anaconda3\\lib\\site-packages\\tensorflow\\python\\framework\\dtypes.py:517: FutureWarning: Passing (type, 1) or '1type' as a synonym of type is deprecated; in a future version of numpy, it will be understood as (type, (1,)) / '(1,)type'.\n",
      "  _np_quint8 = np.dtype([(\"quint8\", np.uint8, 1)])\n",
      "C:\\Users\\baban\\Anaconda3\\lib\\site-packages\\tensorflow\\python\\framework\\dtypes.py:518: FutureWarning: Passing (type, 1) or '1type' as a synonym of type is deprecated; in a future version of numpy, it will be understood as (type, (1,)) / '(1,)type'.\n",
      "  _np_qint16 = np.dtype([(\"qint16\", np.int16, 1)])\n",
      "C:\\Users\\baban\\Anaconda3\\lib\\site-packages\\tensorflow\\python\\framework\\dtypes.py:519: FutureWarning: Passing (type, 1) or '1type' as a synonym of type is deprecated; in a future version of numpy, it will be understood as (type, (1,)) / '(1,)type'.\n",
      "  _np_quint16 = np.dtype([(\"quint16\", np.uint16, 1)])\n",
      "C:\\Users\\baban\\Anaconda3\\lib\\site-packages\\tensorflow\\python\\framework\\dtypes.py:520: FutureWarning: Passing (type, 1) or '1type' as a synonym of type is deprecated; in a future version of numpy, it will be understood as (type, (1,)) / '(1,)type'.\n",
      "  _np_qint32 = np.dtype([(\"qint32\", np.int32, 1)])\n",
      "C:\\Users\\baban\\Anaconda3\\lib\\site-packages\\tensorflow\\python\\framework\\dtypes.py:525: FutureWarning: Passing (type, 1) or '1type' as a synonym of type is deprecated; in a future version of numpy, it will be understood as (type, (1,)) / '(1,)type'.\n",
      "  np_resource = np.dtype([(\"resource\", np.ubyte, 1)])\n",
      "C:\\Users\\baban\\Anaconda3\\lib\\site-packages\\tensorboard\\compat\\tensorflow_stub\\dtypes.py:541: FutureWarning: Passing (type, 1) or '1type' as a synonym of type is deprecated; in a future version of numpy, it will be understood as (type, (1,)) / '(1,)type'.\n",
      "  _np_qint8 = np.dtype([(\"qint8\", np.int8, 1)])\n",
      "C:\\Users\\baban\\Anaconda3\\lib\\site-packages\\tensorboard\\compat\\tensorflow_stub\\dtypes.py:542: FutureWarning: Passing (type, 1) or '1type' as a synonym of type is deprecated; in a future version of numpy, it will be understood as (type, (1,)) / '(1,)type'.\n",
      "  _np_quint8 = np.dtype([(\"quint8\", np.uint8, 1)])\n",
      "C:\\Users\\baban\\Anaconda3\\lib\\site-packages\\tensorboard\\compat\\tensorflow_stub\\dtypes.py:543: FutureWarning: Passing (type, 1) or '1type' as a synonym of type is deprecated; in a future version of numpy, it will be understood as (type, (1,)) / '(1,)type'.\n",
      "  _np_qint16 = np.dtype([(\"qint16\", np.int16, 1)])\n",
      "C:\\Users\\baban\\Anaconda3\\lib\\site-packages\\tensorboard\\compat\\tensorflow_stub\\dtypes.py:544: FutureWarning: Passing (type, 1) or '1type' as a synonym of type is deprecated; in a future version of numpy, it will be understood as (type, (1,)) / '(1,)type'.\n",
      "  _np_quint16 = np.dtype([(\"quint16\", np.uint16, 1)])\n",
      "C:\\Users\\baban\\Anaconda3\\lib\\site-packages\\tensorboard\\compat\\tensorflow_stub\\dtypes.py:545: FutureWarning: Passing (type, 1) or '1type' as a synonym of type is deprecated; in a future version of numpy, it will be understood as (type, (1,)) / '(1,)type'.\n",
      "  _np_qint32 = np.dtype([(\"qint32\", np.int32, 1)])\n",
      "C:\\Users\\baban\\Anaconda3\\lib\\site-packages\\tensorboard\\compat\\tensorflow_stub\\dtypes.py:550: FutureWarning: Passing (type, 1) or '1type' as a synonym of type is deprecated; in a future version of numpy, it will be understood as (type, (1,)) / '(1,)type'.\n",
      "  np_resource = np.dtype([(\"resource\", np.ubyte, 1)])\n"
     ]
    }
   ],
   "source": [
    "import tensorflow as tf\n",
    "sess = tf.Session()"
   ]
  },
  {
   "cell_type": "code",
   "execution_count": 3,
   "metadata": {},
   "outputs": [],
   "source": [
    "# Creating a new graph \n",
    "myGraph = tf.Graph()\n",
    "\n",
    "with myGraph.as_default():\n",
    "    variable = tf.Variable(30, name = 'Baban')\n",
    "    initialize = tf.global_variables_initializer()"
   ]
  },
  {
   "cell_type": "code",
   "execution_count": 4,
   "metadata": {},
   "outputs": [
    {
     "name": "stdout",
     "output_type": "stream",
     "text": [
      "30\n"
     ]
    }
   ],
   "source": [
    "with tf.Session(graph = myGraph) as sess:\n",
    "    sess.run(initialize)\n",
    "    print(sess.run(variable))"
   ]
  },
  {
   "cell_type": "code",
   "execution_count": 5,
   "metadata": {},
   "outputs": [
    {
     "name": "stdout",
     "output_type": "stream",
     "text": [
      "32.0\n"
     ]
    }
   ],
   "source": [
    "# creating a constant \n",
    "x = tf.constant(32,dtype ='float32')\n",
    "print(tf.Session().run(x))"
   ]
  },
  {
   "cell_type": "code",
   "execution_count": 9,
   "metadata": {},
   "outputs": [
    {
     "name": "stdout",
     "output_type": "stream",
     "text": [
      "43.0\n",
      "[43 56 78 89]\n"
     ]
    }
   ],
   "source": [
    "# working with constants and variables \n",
    "x = tf.constant(32,dtype ='float32')\n",
    "y = tf.Variable(x+11) \n",
    "initialize = tf.global_variables_initializer()\n",
    "with tf.Session() as sess:\n",
    "    sess.run(initialize)\n",
    "    print(sess.run(y))\n",
    "\n",
    "# also with a list of constants \n",
    "# working with constants and variables \n",
    "x = tf.constant([32,45,67,78])\n",
    "y = tf.Variable(x+11) \n",
    "initialize = tf.global_variables_initializer()\n",
    "with tf.Session() as sess:\n",
    "    sess.run(initialize)\n",
    "    print(sess.run(y))"
   ]
  },
  {
   "cell_type": "code",
   "execution_count": 12,
   "metadata": {},
   "outputs": [
    {
     "name": "stdout",
     "output_type": "stream",
     "text": [
      "[ 500.  550.  580. 1390.]\n",
      "[[620. 530. 550. 560.]\n",
      " [540. 550. 560. 570.]]\n"
     ]
    }
   ],
   "source": [
    "# place holders - they can be used later in the program____ generally used when storing n-D array \n",
    "x = tf.placeholder(\"float\",None)  # None indicates that any number of rows are allowed \n",
    "y = x*10 +500 \n",
    "\n",
    "with tf.Session() as sess:\n",
    "    placeX = sess.run(y, feed_dict = {x:[0,5,8,89]})\n",
    "    print(placeX)\n",
    "    \n",
    "# with 2D array \n",
    "with tf.Session() as sess:\n",
    "    dataX = [[12,3,5,6],[4,5,6,7]]\n",
    "    placeX = sess.run(y,feed_dict = {x:dataX}) # working with elementwise operations \n",
    "    print(placeX)"
   ]
  },
  {
   "cell_type": "markdown",
   "metadata": {},
   "source": [
    "# Creating tensors "
   ]
  },
  {
   "cell_type": "code",
   "execution_count": 22,
   "metadata": {},
   "outputs": [
    {
     "name": "stdout",
     "output_type": "stream",
     "text": [
      "ones\n",
      " [[1. 1. 1.]\n",
      " [1. 1. 1.]\n",
      " [1. 1. 1.]\n",
      " [1. 1. 1.]]\n",
      "zeros\n",
      " [[0. 0. 0.]\n",
      " [0. 0. 0.]\n",
      " [0. 0. 0.]]\n",
      "number fill\n",
      " [[13 13 13 13]\n",
      " [13 13 13 13]\n",
      " [13 13 13 13]]\n",
      "diagonal\n",
      " [[ 4  0  0]\n",
      " [ 0 -3  0]\n",
      " [ 0  0  6]]\n"
     ]
    }
   ],
   "source": [
    "# Fixed tensors - \n",
    "\n",
    "sess = tf.Session()\n",
    "\n",
    "A = tf.ones([4,3])\n",
    "print(\"ones\\n\",sess.run(A))\n",
    "\n",
    "B = tf.zeros([3,3])\n",
    "print(\"zeros\\n\", sess.run(B))\n",
    "\n",
    "# fills with uniques number \n",
    "C = tf.fill([3,4], 13)\n",
    "print(\"number fill\\n\",sess.run(C))\n",
    "\n",
    "# creating tensor with diagoanl elements \n",
    "D = tf.diag([4,-3,6])\n",
    "print(\"diagonal\\n\",sess.run(D))"
   ]
  },
  {
   "cell_type": "code",
   "execution_count": 31,
   "metadata": {},
   "outputs": [
    {
     "name": "stdout",
     "output_type": "stream",
     "text": [
      "range method\n",
      " [6.       6.9      7.8      8.7      9.599999] \n",
      "\n",
      "evenly spaced\n",
      " [13.   32.25 51.5  70.75 90.  ] \n",
      "\n"
     ]
    }
   ],
   "source": [
    "# sequence tensors \n",
    "# incremental with specified start, end, differnece values \n",
    "E = tf.range(start = 6, limit=10, delta = 0.9)\n",
    "print(\"range method\\n\",sess.run(E),\"\\n\")\n",
    "\n",
    "# linspace - for evenly spaced \n",
    "F = tf.linspace(13.0,90.0,5) # the delta here needs to be int type \n",
    "print(\"evenly spaced\\n\",sess.run(F),\"\\n\")"
   ]
  },
  {
   "cell_type": "code",
   "execution_count": 36,
   "metadata": {},
   "outputs": [
    {
     "name": "stdout",
     "output_type": "stream",
     "text": [
      "from uniform distribution\n",
      " [[-0.21374774  0.6403055  -0.10344696]\n",
      " [ 0.03500223 -0.28473377 -0.86573577]] \n",
      "\n",
      "From normal distribution\n",
      " [[-1.6559175   0.70199275  8.595743  ]\n",
      " [ 1.9223752  -2.678854    1.0375268 ]] \n",
      "\n",
      "shuffled\n",
      " [[   3    0    0]\n",
      " [   0    6    0]\n",
      " [   0    0 -100]] \n",
      "\n"
     ]
    }
   ],
   "source": [
    "# Random tensors \n",
    "\n",
    "# generate random numbers within a range  from uniform distribution\n",
    "\n",
    "G = tf.random_uniform([2,3],minval = -1, maxval =1)\n",
    "print(\"from uniform distribution\\n\", sess.run(G),\"\\n\")\n",
    "\n",
    "# from normal distribution\n",
    "H = tf.random_normal([2,3],mean=0, stddev=4)\n",
    "print(\"From normal distribution\\n\",sess.run(H),\"\\n\")\n",
    "\n",
    "# also can be shuffled through another tensor \n",
    "I = tf.random_shuffle(tf.diag([3,6,-100]))\n",
    "print(\"shuffled\\n\",sess.run(I),\"\\n\")"
   ]
  },
  {
   "cell_type": "markdown",
   "metadata": {},
   "source": [
    "# matrices "
   ]
  },
  {
   "cell_type": "code",
   "execution_count": 48,
   "metadata": {},
   "outputs": [
    {
     "data": {
      "text/plain": [
       "array([[2.6014998 , 0.66639537],\n",
       "       [0.2895544 , 0.1995347 ],\n",
       "       [1.6692675 , 0.05700846]], dtype=float32)"
      ]
     },
     "execution_count": 48,
     "metadata": {},
     "output_type": "execute_result"
    }
   ],
   "source": [
    "A = tf.random_uniform([3,4])\n",
    "B = tf.fill([4,2],1.2)\n",
    "C = tf.random_normal([3,2])\n",
    "\n",
    "sess.run(A)\n",
    "sess.run(B)\n",
    "sess.run(C)"
   ]
  },
  {
   "cell_type": "code",
   "execution_count": 50,
   "metadata": {},
   "outputs": [
    {
     "name": "stdout",
     "output_type": "stream",
     "text": [
      "[[1.3318793 1.3318793]\n",
      " [3.161146  3.161146 ]\n",
      " [1.9671946 1.9671946]] \n",
      "\n",
      "[[1.8321986 3.0909147]\n",
      " [1.2206767 3.0197487]\n",
      " [3.683464  0.3124746]]\n"
     ]
    }
   ],
   "source": [
    "print(sess.run(tf.matmul(A,B)),\"\\n\") # MATrix MULtiplication\n",
    "\n",
    "print(sess.run(tf.matmul(A,B)+C)) # multiplication and addition - beware of the dimensions"
   ]
  },
  {
   "cell_type": "code",
   "execution_count": null,
   "metadata": {},
   "outputs": [],
   "source": []
  }
 ],
 "metadata": {
  "kernelspec": {
   "display_name": "Python 3",
   "language": "python",
   "name": "python3"
  },
  "language_info": {
   "codemirror_mode": {
    "name": "ipython",
    "version": 3
   },
   "file_extension": ".py",
   "mimetype": "text/x-python",
   "name": "python",
   "nbconvert_exporter": "python",
   "pygments_lexer": "ipython3",
   "version": "3.7.6"
  }
 },
 "nbformat": 4,
 "nbformat_minor": 4
}
